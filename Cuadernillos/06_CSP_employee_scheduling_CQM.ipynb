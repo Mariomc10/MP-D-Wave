{
  "cells": [
    {
      "cell_type": "markdown",
      "metadata": {},
      "source": [
        "<div>\n",
        "<img src=\"https://www.nebrija.com/images/logos/logotipo-universidad-nebrija.jpg\" width=\"200\">\n",
        "</div>\n",
        "\n",
        "**MODELOS DE PROGRAMACION: MODELO ADIABATICO** -\n",
        "Prof: Carmen Pellicer Lostao"
      ]
    },
    {
      "cell_type": "markdown",
      "metadata": {
        "id": "SevNNmx1OIzZ"
      },
      "source": [
        "# Constrained Scheduling"
      ]
    },
    {
      "cell_type": "markdown",
      "metadata": {},
      "source": [
        "## Intro"
      ]
    },
    {
      "cell_type": "markdown",
      "metadata": {
        "id": "xsE_Q-gaHybh"
      },
      "source": [
        "In this Notebook we will formulate an optimization problem with discrete variables. Programatically we will use the [Constrained Quadratic Model](https://docs.ocean.dwavesys.com/en/latest/concepts/cqm.html) (CQM) class in Ocean tools to formulate it.\n",
        "\n",
        "Then we will use DWave Hybrid solvers to sample the DQM object of our optimization problem. Specifically we will use the [LeapHybridCQMSampler()](https://docs.ocean.dwavesys.com/en/stable/docs_system/reference/samplers.html#leaphybridcqmsampler) and the SAPI to sumbmit the sampling job to the QPU"
      ]
    },
    {
      "cell_type": "markdown",
      "metadata": {},
      "source": [
        "### DWave libs set-up"
      ]
    },
    {
      "cell_type": "markdown",
      "metadata": {
        "id": "R0ehrBGXVSVc"
      },
      "source": [
        "We install DWave Ocean Libraries and setup them."
      ]
    },
    {
      "cell_type": "code",
      "execution_count": null,
      "metadata": {
        "id": "wHQS98I92qwx"
      },
      "outputs": [],
      "source": [
        "!pip install dwave-ocean-sdk"
      ]
    },
    {
      "cell_type": "code",
      "execution_count": null,
      "metadata": {
        "colab": {
          "base_uri": "https://localhost:8080/"
        },
        "id": "-Ev4Yjsc3BvB",
        "outputId": "800108b1-b6b1-4489-96af-255861cc2c14"
      },
      "outputs": [],
      "source": [
        "!dwave setup"
      ]
    },
    {
      "cell_type": "code",
      "execution_count": null,
      "metadata": {
        "colab": {
          "base_uri": "https://localhost:8080/"
        },
        "id": "IdQjwouG3eth",
        "outputId": "c272bcca-3a2b-4830-9ed6-2162cd5e2cfc"
      },
      "outputs": [],
      "source": [
        "!dwave config inspect"
      ]
    },
    {
      "cell_type": "markdown",
      "metadata": {
        "id": "LtsJMXl01N4r"
      },
      "source": [
        "## Constrained Quadratic Models"
      ]
    },
    {
      "cell_type": "markdown",
      "metadata": {
        "id": "e8qGt6pT1J9g"
      },
      "source": [
        "\n",
        "The constrained quadratic model (CQM) are problems of the form:\n",
        "\n",
        "\n",
        "\n",
        "*   Minimize an objective:\n",
        "\n",
        "$\\sum_{i=1} a_i x_i + \\sum_{i=1} \\sum_{j=1} b_{i,j} (x_i x_j)+c$\n",
        "\n",
        "*   Subject to constrains:\n",
        "\n",
        "$\\sum_{i=1} a_i^{(m)} x_i + \\sum_{i=1} \\sum_{j=1} b_{i,j}^{(m)} (x_i x_j)+c^{(m)} \\circ 0, \\ \\ \\ m= 1,..,M$\n",
        "\n",
        "where:\n",
        "- $\\{x_i\\}_{x=1,..N}$ can be binary $^{[1]}$, integer, or continous $^{[2]}$ variables\n",
        "- $a_i$ and $b_{i,j}$ are real-values\n",
        "- $c$ is a real value constant (offset)\n",
        "- $\\circ \\in \\{\\leq, \\geq, = \\}$ are possible operations\n",
        "- and $M$ the total number of constrains\n",
        "\n",
        "$^{[1]}$ For binary variables, the range of the quadratic-term summation is $i<j$ because $x^2=x$\n",
        " for binary values $\\{0,1\\}$ and $s^2=1$ for spin values $\\{-1,1\\}$\n",
        "\n",
        "$^{[2]}$ Real-valued variables are currently not supported in quadratic interactions.\n",
        "\n",
        "The [ConstrainedQuadraticModel](https://docs.ocean.dwavesys.com/en/latest/docs_dimod/reference/models.html#dimod.ConstrainedQuadraticModel) class can contain this model and its methods provide convenient utilities for working with representations of a problem."
      ]
    },
    {
      "cell_type": "markdown",
      "metadata": {
        "id": "NMaIDaaH1Nm5"
      },
      "source": [
        "## CSP Employee scheduling"
      ]
    },
    {
      "cell_type": "markdown",
      "metadata": {
        "id": "UJh3AmRj5eCF"
      },
      "source": [
        "Building a schedule for employees can be an extremely complex optimization problem in which managers must balance employee preferences against schedule requirements. In this example, we show how a constrain quadratic model (CQM) can be used to model this problem and how the hybrid solvers available in DWave Leap can optimize over these competing scheduling and preference needs.\n",
        "\n",
        "The CQM formulation has several advantages as including constrains staraightforwadly in the model with no guess for Lagrange parameters and a more concise programming syntax for formulating constrains.\n",
        "\n",
        "First we import the libraries needed in the notebook"
      ]
    },
    {
      "cell_type": "code",
      "execution_count": 1,
      "metadata": {
        "id": "iKaJ0vAz2o06"
      },
      "outputs": [],
      "source": [
        "from dimod import ConstrainedQuadraticModel, Binary, quicksum\n",
        "from dwave.system import LeapHybridCQMSampler\n",
        "import numpy as np\n",
        "import matplotlib\n",
        "matplotlib.use(\"agg\")\n",
        "import matplotlib.pyplot as plt"
      ]
    },
    {
      "cell_type": "markdown",
      "metadata": {
        "id": "5cVREogI52JS"
      },
      "source": [
        "To make the example more felxible we ask the user to provide the input values of the number of employees $M$ and the number of shifts $N$.\n",
        "\n",
        "Note that we should have at least as many employees as there are shifts."
      ]
    },
    {
      "cell_type": "code",
      "execution_count": 2,
      "metadata": {
        "id": "NiiyRDHp5wCl",
        "outputId": "c46a1bf0-8507-4bd1-adec-b9ce8041ef0a"
      },
      "outputs": [
        {
          "name": "stdout",
          "output_type": "stream",
          "text": [
            "\n",
            "Scheduling 7 employees over 4 shifts...\n",
            "\n"
          ]
        }
      ],
      "source": [
        "# Collect user input on size of problem\n",
        "response_1 = input(\"\\nEnter number of employees > \")\n",
        "try:\n",
        "    num_employees = int(response_1)\n",
        "except ValueError:\n",
        "    print(\"Must input an integer.\")\n",
        "    num_employees = int(input(\"\\nEnter number of employees > \"))\n",
        "\n",
        "response_2 = input(\"\\nEnter number of shifts > \")\n",
        "try:\n",
        "    num_shifts = int(response_2)\n",
        "except ValueError:\n",
        "    print(\"Must input an integer.\")\n",
        "    num_shifts = int(input(\"\\nEnter number of shifts > \"))\n",
        "\n",
        "if num_employees < num_shifts:\n",
        "    print(\"\\n**Number of employees must be at least number of shifts.**\")\n",
        "\n",
        "    print(\"\\nEnter number of employees:\")\n",
        "    num_employees = int(input())\n",
        "    print(\"\\nEnter number of shifts:\")\n",
        "    num_shifts = int(input())\n",
        "\n",
        "print(\"\\nScheduling\", num_employees, \"employees over\", num_shifts, \"shifts...\\n\")"
      ]
    },
    {
      "cell_type": "markdown",
      "metadata": {
        "id": "Ko9vAyMg6ip4"
      },
      "source": [
        "Another input data are the preferences of each employee for the shifts. In order to make things simpler the program will randomly generate employee preferences for the N shifts from most preferred (0) to least preferred (N-1)."
      ]
    },
    {
      "cell_type": "code",
      "execution_count": 3,
      "metadata": {
        "id": "upLYYQ4M6jHb",
        "outputId": "aa787216-09f1-46f8-cdd9-8eca9861f89d"
      },
      "outputs": [
        {
          "name": "stdout",
          "output_type": "stream",
          "text": [
            "[[1 0 2 3]\n",
            " [1 0 3 2]\n",
            " [3 2 0 1]\n",
            " [3 1 0 2]\n",
            " [1 0 2 3]\n",
            " [1 2 0 3]\n",
            " [0 1 2 3]]\n"
          ]
        }
      ],
      "source": [
        "# Generate random array of preferences over employees\n",
        "preferences = np.tile(np.arange(num_shifts), (num_employees, 1))\n",
        "rows = np.indices((num_employees,num_shifts))[0]\n",
        "cols = [np.random.permutation(num_shifts) for _ in range(num_employees)]\n",
        "preferences = preferences[rows, cols]\n",
        "print(preferences)"
      ]
    },
    {
      "cell_type": "markdown",
      "metadata": {
        "id": "r3QQfQ3b7QGd"
      },
      "source": [
        "### Formulate the problem: Building the CQM"
      ]
    },
    {
      "cell_type": "markdown",
      "metadata": {
        "id": "AW-C7l757VWX"
      },
      "source": [
        "The employee scheduling problem consists of two components: a requirement that employees are evenly distributed across all shifts, and an objective to satisfy employees by scheduling them for their preferred shifts.\n",
        "\n",
        "To build the model we construct a Discrete Quadratic Models object [(see CQM class)](https://docs.ocean.dwavesys.com/en/stable/docs_system/reference/samplers.html#leaphybridcqmsampler) and add it a set of $N$ `Binary` variables for each employee, that indicates the employee's shift.\n",
        "\n",
        "These `Binary` variables are added to the model as $M$ discrete variables that can take up to $N$ different values."
      ]
    },
    {
      "cell_type": "code",
      "execution_count": 4,
      "metadata": {
        "colab": {
          "base_uri": "https://localhost:8080/"
        },
        "id": "bA60FcLUDk1h",
        "outputId": "6480f8e7-33f3-4779-facf-79678d6dbefa"
      },
      "outputs": [],
      "source": [
        "# Initialize the CQM object\n",
        "cqm = ConstrainedQuadraticModel()\n",
        "\n",
        "# Build the CQM starting by creating variables\n",
        "vars = [[Binary(f'x_{name}_{i}') for i in range(num_shifts)] for name in range(num_employees)]\n",
        "\n",
        "# Add constraint to make variables discrete\n",
        "for v in range(len(vars)):\n",
        "    cqm.add_discrete([f'x_{v}_{i}' for i in range(num_shifts)])"
      ]
    },
    {
      "cell_type": "code",
      "execution_count": 5,
      "metadata": {},
      "outputs": [
        {
          "name": "stdout",
          "output_type": "stream",
          "text": [
            "Constrained quadratic model: 28 variables, 7 constraints, 28 biases\n",
            "\n",
            "Objective\n",
            "  0\n",
            "\n",
            "Constraints\n",
            "  cfd6479: Binary('x_0_0') + Binary('x_0_1') + Binary('x_0_2') + Binary('x_0_3') == 1.0\n",
            "  c5ba8e5: Binary('x_1_0') + Binary('x_1_1') + Binary('x_1_2') + Binary('x_1_3') == 1.0\n",
            "  ce59bd0: Binary('x_2_0') + Binary('x_2_1') + Binary('x_2_2') + Binary('x_2_3') == 1.0\n",
            "  cebb21a: Binary('x_3_0') + Binary('x_3_1') + Binary('x_3_2') + Binary('x_3_3') == 1.0\n",
            "  c6ecb9c: Binary('x_4_0') + Binary('x_4_1') + Binary('x_4_2') + Binary('x_4_3') == 1.0\n",
            "  cbf28f2: Binary('x_5_0') + Binary('x_5_1') + Binary('x_5_2') + Binary('x_5_3') == 1.0\n",
            "  c8e3638: Binary('x_6_0') + Binary('x_6_1') + Binary('x_6_2') + Binary('x_6_3') == 1.0\n",
            "\n",
            "Bounds\n",
            "\n"
          ]
        }
      ],
      "source": [
        "print(cqm)"
      ]
    },
    {
      "cell_type": "markdown",
      "metadata": {
        "id": "P4HvBp877Yy3"
      },
      "source": [
        "#### Preferred Shifts"
      ]
    },
    {
      "cell_type": "markdown",
      "metadata": {
        "id": "DkK9nHQp7gTv"
      },
      "source": [
        "Since shift preferences $p_{i,u}$ are ranked from most preferred (smallest value) to least preferred (largest value), the rankings can be used for the biases in the quadratic model. Since the hybrid solvers look for minimum energy solutions, and minimum rank corresponds to most preferred, these naturally align.\n",
        "\n",
        "The objective function of our problem can be formulatrd as:\n",
        "\n",
        "$\\sum_i^M \\sum_u^N p_{i,u}x_{i,u}$\n",
        "\n",
        "To formulate it, we use the [`quicksum` tool](https://docs.ocean.dwavesys.com/en/stable/docs_dimod/reference/generated/dimod.binary.quicksum.html) provided in `dimod` libraries, that is optimized to be faster than the python method `sum()`"
      ]
    },
    {
      "cell_type": "code",
      "execution_count": 6,
      "metadata": {
        "id": "qppXy7AnbJJh"
      },
      "outputs": [],
      "source": [
        "# Objective: maximize employee preference (choose shifts with lower preference numbers)\n",
        "obj = quicksum([preferences[j,i]*vars[j][i] for j in range(num_employees) for i in range(num_shifts)])\n",
        "cqm.set_objective(obj)"
      ]
    },
    {
      "cell_type": "code",
      "execution_count": 7,
      "metadata": {},
      "outputs": [
        {
          "name": "stdout",
          "output_type": "stream",
          "text": [
            "Constrained quadratic model: 28 variables, 7 constraints, 56 biases\n",
            "\n",
            "Objective\n",
            "  Binary('x_0_0') + 0*Binary('x_0_1') + 2*Binary('x_0_2') + 3*Binary('x_0_3') + Binary('x_1_0') + 0*Binary('x_1_1') + 3*Binary('x_1_2') + 2*Binary('x_1_3') + 3*Binary('x_2_0') + 2*Binary('x_2_1') + 0*Binary('x_2_2') + Binary('x_2_3') + 3*Binary('x_3_0') + Binary('x_3_1') + 0*Binary('x_3_2') + 2*Binary('x_3_3') + Binary('x_4_0') + 0*Binary('x_4_1') + 2*Binary('x_4_2') + 3*Binary('x_4_3') + Binary('x_5_0') + 2*Binary('x_5_1') + 0*Binary('x_5_2') + 3*Binary('x_5_3') + 0*Binary('x_6_0') + Binary('x_6_1') + 2*Binary('x_6_2') + 3*Binary('x_6_3')\n",
            "\n",
            "Constraints\n",
            "  cfd6479: Binary('x_0_0') + Binary('x_0_1') + Binary('x_0_2') + Binary('x_0_3') == 1.0\n",
            "  c5ba8e5: Binary('x_1_0') + Binary('x_1_1') + Binary('x_1_2') + Binary('x_1_3') == 1.0\n",
            "  ce59bd0: Binary('x_2_0') + Binary('x_2_1') + Binary('x_2_2') + Binary('x_2_3') == 1.0\n",
            "  cebb21a: Binary('x_3_0') + Binary('x_3_1') + Binary('x_3_2') + Binary('x_3_3') == 1.0\n",
            "  c6ecb9c: Binary('x_4_0') + Binary('x_4_1') + Binary('x_4_2') + Binary('x_4_3') == 1.0\n",
            "  cbf28f2: Binary('x_5_0') + Binary('x_5_1') + Binary('x_5_2') + Binary('x_5_3') == 1.0\n",
            "  c8e3638: Binary('x_6_0') + Binary('x_6_1') + Binary('x_6_2') + Binary('x_6_3') == 1.0\n",
            "\n",
            "Bounds\n",
            "\n"
          ]
        }
      ],
      "source": [
        "print(cqm)"
      ]
    },
    {
      "cell_type": "markdown",
      "metadata": {
        "id": "9z1hiMjd7kxU"
      },
      "source": [
        "#### Even Distribution"
      ]
    },
    {
      "cell_type": "markdown",
      "metadata": {
        "id": "lvqVxvt-7pqq"
      },
      "source": [
        "An even distribution of employees across shifts would have approximately num_employees/num_shifts $M/N$ scheduled employees per shift. To enforce this requirement, both linear and quadratic biases must be adjusted in a specific manner. We can do this using linear and quadratic biases to enforce the constraint in the discrete quadratic model.\n",
        "\n",
        "To determine the linear and quadratic bias adjustments, we must consider the underlying binary variables in our model. For a DQM with $N$ shifts and $M$ employees, each employee has a single variable $d_i$ constructed with $N$ cases or classes. These are implemented as $N$ binary variables $x_{i,u}$ per employee — one for each possible shift.\n",
        "\n",
        "For a specific shift $u$, we require that exactly $M/N$ employees are scheduled. This is equivalent to saying that $M/N$ employee variables are assigned case $u$, or, returning to our binary variables, that $M/N$ of the binary variables corresponding to case $u$ take a value of 1. In other words, the sum of all employee case $u$ binary variables should equal $M/N$. An equality over a summation of binary variables can be converted to a minimization expression by moving from the equality:\n",
        "\n",
        "$\\sum_{i=1}^M x_{i,u} = \\frac{M}{N}  \\ \\ \\ \\ \\\n",
        "\\forall u$\n",
        "\n",
        "In the CQM we can include constrains in a straightforward maner with the method `.addconstrain()`, as it allows algebraic mathematical formulation format."
      ]
    },
    {
      "cell_type": "code",
      "execution_count": 8,
      "metadata": {
        "id": "Kd7HnFCjbOql"
      },
      "outputs": [],
      "source": [
        "# Constraint: equal number of employees per shift\n",
        "num_per_shift = int(num_employees/num_shifts)\n",
        "for i in range(num_shifts):\n",
        "    cst = quicksum([vars[j][i] for j in range(num_employees)])\n",
        "    cqm.add_constraint(cst == num_per_shift, label=f'c_{i}')"
      ]
    },
    {
      "cell_type": "code",
      "execution_count": 9,
      "metadata": {},
      "outputs": [
        {
          "name": "stdout",
          "output_type": "stream",
          "text": [
            "Constrained quadratic model: 28 variables, 11 constraints, 84 biases\n",
            "\n",
            "Objective\n",
            "  Binary('x_0_0') + 0*Binary('x_0_1') + 2*Binary('x_0_2') + 3*Binary('x_0_3') + Binary('x_1_0') + 0*Binary('x_1_1') + 3*Binary('x_1_2') + 2*Binary('x_1_3') + 3*Binary('x_2_0') + 2*Binary('x_2_1') + 0*Binary('x_2_2') + Binary('x_2_3') + 3*Binary('x_3_0') + Binary('x_3_1') + 0*Binary('x_3_2') + 2*Binary('x_3_3') + Binary('x_4_0') + 0*Binary('x_4_1') + 2*Binary('x_4_2') + 3*Binary('x_4_3') + Binary('x_5_0') + 2*Binary('x_5_1') + 0*Binary('x_5_2') + 3*Binary('x_5_3') + 0*Binary('x_6_0') + Binary('x_6_1') + 2*Binary('x_6_2') + 3*Binary('x_6_3')\n",
            "\n",
            "Constraints\n",
            "  cfd6479: Binary('x_0_0') + Binary('x_0_1') + Binary('x_0_2') + Binary('x_0_3') == 1.0\n",
            "  c5ba8e5: Binary('x_1_0') + Binary('x_1_1') + Binary('x_1_2') + Binary('x_1_3') == 1.0\n",
            "  ce59bd0: Binary('x_2_0') + Binary('x_2_1') + Binary('x_2_2') + Binary('x_2_3') == 1.0\n",
            "  cebb21a: Binary('x_3_0') + Binary('x_3_1') + Binary('x_3_2') + Binary('x_3_3') == 1.0\n",
            "  c6ecb9c: Binary('x_4_0') + Binary('x_4_1') + Binary('x_4_2') + Binary('x_4_3') == 1.0\n",
            "  ...\n",
            "  c8e3638: Binary('x_6_0') + Binary('x_6_1') + Binary('x_6_2') + Binary('x_6_3') == 1.0\n",
            "  c_0: Binary('x_0_0') + Binary('x_1_0') + Binary('x_2_0') + Binary('x_3_0') + Binary('x_4_0') + Binary('x_5_0') + Binary('x_6_0') == 1.0\n",
            "  c_1: Binary('x_0_1') + Binary('x_1_1') + Binary('x_2_1') + Binary('x_3_1') + Binary('x_4_1') + Binary('x_5_1') + Binary('x_6_1') == 1.0\n",
            "  c_2: Binary('x_0_2') + Binary('x_1_2') + Binary('x_2_2') + Binary('x_3_2') + Binary('x_4_2') + Binary('x_5_2') + Binary('x_6_2') == 1.0\n",
            "  c_3: Binary('x_0_3') + Binary('x_1_3') + Binary('x_2_3') + Binary('x_3_3') + Binary('x_4_3') + Binary('x_5_3') + Binary('x_6_3') == 1.0\n",
            "\n",
            "Bounds\n",
            "\n"
          ]
        }
      ],
      "source": [
        "print(cqm)"
      ]
    },
    {
      "cell_type": "markdown",
      "metadata": {
        "id": "h0ZQlKapTb6s"
      },
      "source": [
        "### Solve the problem in a QPU with Leap Hybrid Solvers"
      ]
    },
    {
      "cell_type": "markdown",
      "metadata": {
        "id": "miP1FmzuWZOi"
      },
      "source": [
        "To sample a CQM we use a DWave Hybrid solver, the [LeapHybridCQMSampler()](https://docs.ocean.dwavesys.com/en/stable/docs_system/reference/samplers.html#leaphybridcqmsampler) and use the SAPI to sumbmit the sampling job to the QPU"
      ]
    },
    {
      "cell_type": "code",
      "execution_count": 10,
      "metadata": {
        "id": "mo8b8UCUYfd2"
      },
      "outputs": [],
      "source": [
        "# Initialize the CQM solver\n",
        "sampler = LeapHybridCQMSampler()\n",
        "\n",
        "# Solve the problem using the DQM solver\n",
        "sampleset = sampler.sample_cqm(cqm, label='Example - Employee Scheduling')"
      ]
    },
    {
      "cell_type": "markdown",
      "metadata": {
        "id": "gV-sRyqEYrDp"
      },
      "source": [
        "We print the sampling results"
      ]
    },
    {
      "cell_type": "code",
      "execution_count": 11,
      "metadata": {
        "id": "o0NhcRRUY1yZ"
      },
      "outputs": [
        {
          "name": "stdout",
          "output_type": "stream",
          "text": [
            "\n",
            "Schedule first sample:    x_0_0 x_0_1 x_0_2 x_0_3 x_1_0 x_1_1 x_1_2 x_1_3 ... x_6_3 energy num_oc. ...\n",
            "1    1.0   0.0   0.0   0.0   0.0   1.0   0.0   0.0 ...   0.0    2.0       1 ...\n",
            "4    1.0   0.0   0.0   0.0   0.0   1.0   0.0   0.0 ...   0.0    2.0       1 ...\n",
            "8    1.0   0.0   0.0   0.0   0.0   1.0   0.0   0.0 ...   0.0    2.0       1 ...\n",
            "9    1.0   0.0   0.0   0.0   0.0   1.0   0.0   0.0 ...   0.0    2.0       1 ...\n",
            "10   1.0   0.0   0.0   0.0   0.0   1.0   0.0   0.0 ...   0.0    2.0       1 ...\n",
            "12   1.0   0.0   0.0   0.0   0.0   1.0   0.0   0.0 ...   0.0    2.0       1 ...\n",
            "14   0.0   1.0   0.0   0.0   1.0   0.0   0.0   0.0 ...   0.0    2.0       1 ...\n",
            "15   0.0   1.0   0.0   0.0   1.0   0.0   0.0   0.0 ...   0.0    2.0       1 ...\n",
            "16   1.0   0.0   0.0   0.0   0.0   1.0   0.0   0.0 ...   0.0    2.0       1 ...\n",
            "17   0.0   1.0   0.0   0.0   0.0   1.0   0.0   0.0 ...   0.0    2.0       1 ...\n",
            "18   0.0   1.0   0.0   0.0   1.0   0.0   0.0   0.0 ...   0.0    2.0       1 ...\n",
            "19   0.0   1.0   0.0   0.0   1.0   0.0   0.0   0.0 ...   0.0    2.0       1 ...\n",
            "20   0.0   1.0   0.0   0.0   0.0   1.0   0.0   0.0 ...   0.0    2.0       1 ...\n",
            "21   0.0   1.0   0.0   0.0   0.0   1.0   0.0   0.0 ...   0.0    2.0       1 ...\n",
            "22   0.0   1.0   0.0   0.0   0.0   1.0   0.0   0.0 ...   0.0    2.0       1 ...\n",
            "23   0.0   1.0   0.0   0.0   1.0   0.0   0.0   0.0 ...   0.0    2.0       1 ...\n",
            "24   1.0   0.0   0.0   0.0   0.0   1.0   0.0   0.0 ...   0.0    2.0       1 ...\n",
            "25   0.0   1.0   0.0   0.0   0.0   1.0   0.0   0.0 ...   0.0    2.0       1 ...\n",
            "26   1.0   0.0   0.0   0.0   0.0   1.0   0.0   0.0 ...   0.0    2.0       1 ...\n",
            "27   1.0   0.0   0.0   0.0   0.0   1.0   0.0   0.0 ...   0.0    2.0       1 ...\n",
            "28   0.0   1.0   0.0   0.0   0.0   1.0   0.0   0.0 ...   0.0    2.0       1 ...\n",
            "29   1.0   0.0   0.0   0.0   0.0   1.0   0.0   0.0 ...   0.0    2.0       1 ...\n",
            "30   1.0   0.0   0.0   0.0   0.0   1.0   0.0   0.0 ...   0.0    2.0       1 ...\n",
            "31   1.0   0.0   0.0   0.0   0.0   1.0   0.0   0.0 ...   0.0    2.0       1 ...\n",
            "11   0.0   1.0   0.0   0.0   0.0   0.0   0.0   1.0 ...   0.0    3.0       1 ...\n",
            "3    0.0   1.0   0.0   0.0   0.0   0.0   0.0   1.0 ...   0.0    4.0       1 ...\n",
            "2    0.0   1.0   0.0   0.0   0.0   1.0   0.0   0.0 ...   1.0    5.0       1 ...\n",
            "6    0.0   1.0   0.0   0.0   0.0   0.0   0.0   1.0 ...   0.0    6.0       1 ...\n",
            "32   1.0   0.0   0.0   0.0   0.0   1.0   0.0   0.0 ...   0.0    6.0       1 ...\n",
            "0    1.0   0.0   0.0   0.0   0.0   0.0   0.0   1.0 ...   0.0    7.0       1 ...\n",
            "7    0.0   1.0   0.0   0.0   0.0   0.0   0.0   1.0 ...   1.0    7.0       1 ...\n",
            "33   1.0   0.0   0.0   0.0   0.0   0.0   0.0   1.0 ...   0.0    7.0       1 ...\n",
            "34   1.0   0.0   0.0   0.0   0.0   0.0   0.0   1.0 ...   0.0    7.0       1 ...\n",
            "35   0.0   1.0   0.0   0.0   0.0   0.0   0.0   1.0 ...   1.0    7.0       1 ...\n",
            "36   1.0   0.0   0.0   0.0   0.0   0.0   1.0   0.0 ...   0.0    8.0       1 ...\n",
            "37   0.0   1.0   0.0   0.0   0.0   0.0   1.0   0.0 ...   0.0    8.0       1 ...\n",
            "5    0.0   1.0   0.0   0.0   0.0   1.0   0.0   0.0 ...   0.0    9.0       1 ...\n",
            "38   0.0   0.0   1.0   0.0   0.0   1.0   0.0   0.0 ...   1.0    9.0       1 ...\n",
            "39   0.0   1.0   0.0   0.0   0.0   0.0   0.0   1.0 ...   0.0    9.0       1 ...\n",
            "40   0.0   1.0   0.0   0.0   0.0   0.0   0.0   1.0 ...   1.0    9.0       1 ...\n",
            "41   0.0   1.0   0.0   0.0   0.0   0.0   0.0   1.0 ...   0.0    9.0       1 ...\n",
            "42   0.0   0.0   0.0   1.0   1.0   0.0   0.0   0.0 ...   0.0   10.0       1 ...\n",
            "43   0.0   1.0   0.0   0.0   0.0   0.0   1.0   0.0 ...   0.0   10.0       1 ...\n",
            "44   0.0   0.0   1.0   0.0   1.0   0.0   0.0   0.0 ...   0.0   10.0       1 ...\n",
            "45   0.0   1.0   0.0   0.0   0.0   1.0   0.0   0.0 ...   0.0   10.0       1 ...\n",
            "13   0.0   1.0   0.0   0.0   0.0   0.0   0.0   1.0 ...   0.0   11.0       1 ...\n",
            "46   0.0   0.0   1.0   0.0   1.0   0.0   0.0   0.0 ...   1.0   11.0       1 ...\n",
            "47   0.0   0.0   0.0   1.0   0.0   0.0   0.0   1.0 ...   0.0   11.0       1 ...\n",
            "48   0.0   1.0   0.0   0.0   0.0   0.0   1.0   0.0 ...   0.0   11.0       1 ...\n",
            "49   1.0   0.0   0.0   0.0   0.0   0.0   0.0   1.0 ...   0.0   12.0       1 ...\n",
            "50   0.0   0.0   1.0   0.0   0.0   0.0   0.0   1.0 ...   0.0   12.0       1 ...\n",
            "51   0.0   0.0   1.0   0.0   1.0   0.0   0.0   0.0 ...   0.0   12.0       1 ...\n",
            "52   0.0   1.0   0.0   0.0   0.0   0.0   1.0   0.0 ...   0.0   12.0       1 ...\n",
            "53   0.0   0.0   1.0   0.0   0.0   0.0   0.0   1.0 ...   0.0   12.0       1 ...\n",
            "54   1.0   0.0   0.0   0.0   0.0   0.0   1.0   0.0 ...   1.0   12.0       1 ...\n",
            "55   0.0   0.0   0.0   1.0   0.0   0.0   0.0   1.0 ...   0.0   12.0       1 ...\n",
            "56   0.0   1.0   0.0   0.0   0.0   1.0   0.0   0.0 ...   0.0   13.0       1 ...\n",
            "57   0.0   0.0   1.0   0.0   0.0   0.0   0.0   1.0 ...   1.0   13.0       1 ...\n",
            "58   0.0   0.0   1.0   0.0   0.0   1.0   0.0   0.0 ...   0.0   13.0       1 ...\n",
            "59   0.0   0.0   0.0   1.0   0.0   0.0   1.0   0.0 ...   0.0   14.0       1 ...\n",
            "60   0.0   0.0   0.0   1.0   1.0   0.0   0.0   0.0 ...   0.0   15.0       1 ...\n",
            "61   0.0   0.0   0.0   1.0   0.0   0.0   1.0   0.0 ...   0.0   16.0       1 ...\n",
            "['INTEGER', 62 rows, 62 samples, 28 variables]\n"
          ]
        }
      ],
      "source": [
        "#get all solutions\n",
        "print(\"\\nSchedule first sample:\", sampleset)"
      ]
    },
    {
      "cell_type": "code",
      "execution_count": 12,
      "metadata": {
        "id": "Ls2xGJCvYwrM"
      },
      "outputs": [
        {
          "name": "stdout",
          "output_type": "stream",
          "text": [
            "\n",
            "No feasible solution found. Returning best infeasible solution.\n",
            "\n",
            "Sample: {'x_0_0': 1.0, 'x_0_1': 0.0, 'x_0_2': 0.0, 'x_0_3': 0.0, 'x_1_0': 0.0, 'x_1_1': 1.0, 'x_1_2': 0.0, 'x_1_3': 0.0, 'x_2_0': 0.0, 'x_2_1': 0.0, 'x_2_2': 0.0, 'x_2_3': 1.0, 'x_3_0': 0.0, 'x_3_1': 0.0, 'x_3_2': 1.0, 'x_3_3': 0.0, 'x_4_0': 0.0, 'x_4_1': 1.0, 'x_4_2': 0.0, 'x_4_3': 0.0, 'x_5_0': 0.0, 'x_5_1': 0.0, 'x_5_2': 1.0, 'x_5_3': 0.0, 'x_6_0': 1.0, 'x_6_1': 0.0, 'x_6_2': 0.0, 'x_6_3': 0.0}\n",
            "\n",
            "Schedule score: 2.0\n"
          ]
        }
      ],
      "source": [
        "# Get the first feasible solution\n",
        "feasible_sampleset = sampleset.filter(lambda d: d.is_feasible)\n",
        "if len(feasible_sampleset) == 0:\n",
        "    print(\"\\nNo feasible solution found. Returning best infeasible solution.\")\n",
        "    sample = sampleset.first.sample\n",
        "    energy = sampleset.first.energy\n",
        "else:\n",
        "    sample = feasible_sampleset.first.sample\n",
        "    energy = feasible_sampleset.first.energy\n",
        "print(\"\\nSample:\", sample)\n",
        "print(\"\\nSchedule score:\", energy)"
      ]
    },
    {
      "cell_type": "markdown",
      "metadata": {
        "id": "vDK1HVUQaj9O"
      },
      "source": [
        "### Final results"
      ]
    },
    {
      "cell_type": "markdown",
      "metadata": {
        "id": "h8JApDNnZJ-e"
      },
      "source": [
        "Once we have the results, we build two images to ilustrate the distibution of the employees in the shifts:\n",
        "\n",
        "- First, `employee_schedule.png` illustrates the employee preference matrix alongside the schedule built.\n",
        "- Second, `schedule_statistics.png` shows how many employees are scheduled for each shift, alongside a bar chart showing the employees' average preferences for the shifts for which they have been scheduled.\n",
        "\n",
        "At the end of the program's run, two statistics are printed to the command-line:\n",
        "\n",
        "- Schedule score provides the energy value of the best solution found.\n",
        "- Average happiness is the average of the employee preference values for the shifts that they are scheduled.\n",
        "\n",
        "A smaller average happiness score is better, and a score of 0.0 is a perfect score - everyone received their first choice shift."
      ]
    },
    {
      "cell_type": "code",
      "execution_count": 13,
      "metadata": {
        "colab": {
          "base_uri": "https://localhost:8080/"
        },
        "id": "QEpcx3VR2kHw",
        "outputId": "9ebec33e-0f34-4043-9e97-52e7d5cfe87c"
      },
      "outputs": [
        {
          "name": "stdout",
          "output_type": "stream",
          "text": [
            "\n",
            "Average happiness:\t 0.2857142857142857\n"
          ]
        }
      ],
      "source": [
        "# Build schedule\n",
        "schedule = np.ones((num_employees, num_shifts))*num_shifts\n",
        "prefs = [0]*num_shifts\n",
        "shifts = [0]*num_shifts\n",
        "for key, val in sample.items():\n",
        "    if val == 1:\n",
        "        v = key.split(\"_\")\n",
        "        emp = int(v[1])\n",
        "        shft = int(v[2])\n",
        "        schedule[emp,shft]=preferences[emp,shft]\n",
        "        prefs[preferences[emp,shft]] += 1\n",
        "        shifts[shft] += 1\n",
        "\n",
        "# Show heatmap of preferences\n",
        "cmap = plt.get_cmap('seismic')\n",
        "cmaplist = [cmap(i) for i in range(cmap.N)]\n",
        "cmaplist[-1] = (1.0,1.0,1.0,1.0)\n",
        "cmap = cmap.from_list('Custom cmap', cmaplist, cmap.N)\n",
        "\n",
        "fig, (ax1, ax2) = plt.subplots(1, 2)\n",
        "ax1.imshow(preferences, cmap='seismic', interpolation='nearest', vmin=0, vmax=num_shifts, aspect='auto')\n",
        "ax1.xlabel = 'Shifts'\n",
        "ax1.ylabel = 'Employees'\n",
        "ax1.set_title(\"Employee Shift Preferences\", color='Black', fontstyle='italic')\n",
        "\n",
        "# Show heatmap of schedule\n",
        "cax = ax2.imshow(schedule, cmap=cmap, interpolation='nearest', aspect='auto', vmin=0)\n",
        "cbar = fig.colorbar(cax, ticks=[0, num_shifts])\n",
        "cbar.set_ticklabels(['Best', 'Worst'])\n",
        "ax2.xlabel = 'Shifts'\n",
        "ax2.set_title(\"Employee Shift Schedule\", color='Black', fontstyle='italic')\n",
        "plt.savefig(\"employee_schedule.png\")\n",
        "\n",
        "# Compute/display schedule statistics\n",
        "plt.clf()\n",
        "plt.subplot(1, 2, 1)\n",
        "plt.bar(np.arange(num_shifts), shifts)\n",
        "plt.xlabel(\"Shift\")\n",
        "plt.ylabel(\"Number Scheduled\")\n",
        "plt.title(\"Employees Scheduled Per Shift\")\n",
        "\n",
        "mean_happiness = sum([i*prefs[i] for i in range(num_shifts)])/num_employees\n",
        "print(\"\\nAverage happiness:\\t\", mean_happiness)\n",
        "\n",
        "plt.subplot(1, 2, 2)\n",
        "plt.bar(np.arange(num_shifts), prefs)\n",
        "plt.xlabel(\"Preference Rank\")\n",
        "plt.title(\"Average Preference per Shift\")\n",
        "plt.savefig(\"schedule_statistics.png\")"
      ]
    }
  ],
  "metadata": {
    "colab": {
      "provenance": []
    },
    "kernelspec": {
      "display_name": "Python 3",
      "name": "python3"
    },
    "language_info": {
      "codemirror_mode": {
        "name": "ipython",
        "version": 3
      },
      "file_extension": ".py",
      "mimetype": "text/x-python",
      "name": "python",
      "nbconvert_exporter": "python",
      "pygments_lexer": "ipython3",
      "version": "3.10.8"
    }
  },
  "nbformat": 4,
  "nbformat_minor": 0
}
