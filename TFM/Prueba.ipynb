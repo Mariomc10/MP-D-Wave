{
  "cells": [
    {
      "cell_type": "markdown",
      "metadata": {},
      "source": [
        "<div>\n",
        "<img src=\"https://www.nebrija.com/images/logos/logotipo-universidad-nebrija.jpg\" width=\"200\">\n",
        "</div>"
      ]
    },
    {
      "cell_type": "markdown",
      "metadata": {
        "id": "SevNNmx1OIzZ"
      },
      "source": [
        "# **Prueba Shor Adiabatico**"
      ]
    },
    {
      "cell_type": "code",
      "execution_count": 1,
      "metadata": {},
      "outputs": [],
      "source": [
        "import dimod\n",
        "import numpy as np\n",
        "from dwave.system import LeapHybridCQMSampler\n",
        "import numpy as np\n",
        "import matplotlib\n",
        "matplotlib.use(\"agg\")\n",
        "import matplotlib.pyplot as plt"
      ]
    },
    {
      "cell_type": "code",
      "execution_count": 2,
      "metadata": {},
      "outputs": [],
      "source": [
        "N = 13*17\n",
        "nx = np.ceil(np.log2(np.floor(np.sqrt(N)))) - 1\n",
        "ny = np.ceil(np.log2(np.floor(N/3))) - 1\n",
        "\n",
        "total_qubits = nx+ny"
      ]
    },
    {
      "cell_type": "code",
      "execution_count": 3,
      "metadata": {},
      "outputs": [],
      "source": [
        "variables = [dimod.Integer(\"x\"),dimod.Integer(\"y\")]"
      ]
    },
    {
      "cell_type": "code",
      "execution_count": 4,
      "metadata": {},
      "outputs": [
        {
          "data": {
            "text/plain": [
              "[QuadraticModel({'x': 1.0}, {}, 0.0, {'x': 'INTEGER'}, dtype='float64'),\n",
              " QuadraticModel({'y': 1.0}, {}, 0.0, {'y': 'INTEGER'}, dtype='float64')]"
            ]
          },
          "execution_count": 4,
          "metadata": {},
          "output_type": "execute_result"
        }
      ],
      "source": [
        "variables"
      ]
    },
    {
      "cell_type": "code",
      "execution_count": 5,
      "metadata": {},
      "outputs": [],
      "source": [
        "variables[0].set_upper_bound(\"x\",2**nx)\n",
        "variables[1].set_upper_bound(\"y\",2**ny)"
      ]
    },
    {
      "cell_type": "code",
      "execution_count": 6,
      "metadata": {},
      "outputs": [],
      "source": [
        "cqm = dimod.ConstrainedQuadraticModel()"
      ]
    },
    {
      "cell_type": "code",
      "execution_count": 7,
      "metadata": {},
      "outputs": [],
      "source": [
        "cqm.set_objective(N - (2*variables[0]+1)*(2*variables[1]+1))"
      ]
    },
    {
      "cell_type": "code",
      "execution_count": 8,
      "metadata": {},
      "outputs": [
        {
          "name": "stdout",
          "output_type": "stream",
          "text": [
            "Constrained quadratic model: 2 variables, 0 constraints, 3 biases\n",
            "\n",
            "Objective\n",
            "  220 - 2*Integer('x') - 2*Integer('y') - 4*Integer('x')*Integer('y')\n",
            "\n",
            "Constraints\n",
            "\n",
            "Bounds\n",
            "  0.0 <= Integer('x') <= 8.0\n",
            "  0.0 <= Integer('y') <= 64.0\n",
            "\n"
          ]
        }
      ],
      "source": [
        "print(cqm)"
      ]
    },
    {
      "cell_type": "code",
      "execution_count": 9,
      "metadata": {},
      "outputs": [
        {
          "data": {
            "text/plain": [
              "'c418810'"
            ]
          },
          "execution_count": 9,
          "metadata": {},
          "output_type": "execute_result"
        }
      ],
      "source": [
        "cqm.add_constraint(N - (2*variables[0]+1)*(2*variables[1]+1)>=0)"
      ]
    },
    {
      "cell_type": "code",
      "execution_count": 10,
      "metadata": {},
      "outputs": [
        {
          "name": "stdout",
          "output_type": "stream",
          "text": [
            "Constrained quadratic model: 2 variables, 1 constraints, 6 biases\n",
            "\n",
            "Objective\n",
            "  220 - 2*Integer('x') - 2*Integer('y') - 4*Integer('x')*Integer('y')\n",
            "\n",
            "Constraints\n",
            "  c418810: 220 - 2*Integer('x') - 2*Integer('y') - 4*Integer('x')*Integer('y') >= 0.0\n",
            "\n",
            "Bounds\n",
            "  0.0 <= Integer('x') <= 8.0\n",
            "  0.0 <= Integer('y') <= 64.0\n",
            "\n"
          ]
        }
      ],
      "source": [
        "print(cqm)"
      ]
    },
    {
      "cell_type": "code",
      "execution_count": 11,
      "metadata": {},
      "outputs": [],
      "source": [
        "# Definimos el sampler\n",
        "sampler = LeapHybridCQMSampler()\n",
        "\n",
        "# Resolvemos el CQM\n",
        "sampleset = sampler.sample_cqm(cqm)\n",
        "\n",
        "# Tomamos las soluciones factibles\n",
        "feasible_sampleset = sampleset.filter(lambda row: row.is_feasible)   "
      ]
    },
    {
      "cell_type": "code",
      "execution_count": 12,
      "metadata": {},
      "outputs": [
        {
          "name": "stdout",
          "output_type": "stream",
          "text": [
            "[17.0, 13.0]\n"
          ]
        }
      ],
      "source": [
        "best = feasible_sampleset.first.sample\n",
        "print([2*best[ind]+1 for ind in [\"x\",\"y\"] ])"
      ]
    }
  ],
  "metadata": {
    "colab": {
      "provenance": []
    },
    "kernelspec": {
      "display_name": "Python 3 (ipykernel)",
      "language": "python",
      "name": "python3"
    },
    "language_info": {
      "codemirror_mode": {
        "name": "ipython",
        "version": 3
      },
      "file_extension": ".py",
      "mimetype": "text/x-python",
      "name": "python",
      "nbconvert_exporter": "python",
      "pygments_lexer": "ipython3",
      "version": "3.10.13"
    }
  },
  "nbformat": 4,
  "nbformat_minor": 0
}
